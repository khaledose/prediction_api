{
  "cells": [
    {
      "cell_type": "code",
      "execution_count": null,
      "id": "vG3YpbhRhNYc",
      "metadata": {
        "colab": {
          "base_uri": "https://localhost:8080/"
        },
        "id": "vG3YpbhRhNYc",
        "outputId": "b0c65c28-2c32-4f3c-92cb-0a126c5674c9"
      },
      "outputs": [],
      "source": [
        "import os\n",
        "import numpy as np\n",
        "import matplotlib.pyplot as plt\n",
        "import tensorflow as tf\n",
        "\n",
        "print(\"Tensorflow: v{}\".format(tf.__version__))\n",
        "%matplotlib inline"
      ]
    },
    {
      "cell_type": "code",
      "execution_count": null,
      "id": "33Ue8fJHhRWK",
      "metadata": {
        "id": "33Ue8fJHhRWK"
      },
      "outputs": [],
      "source": [
        "def load(f, label):\n",
        "    # load the file into tensor\n",
        "    image = tf.io.read_file(f)\n",
        "    # Decode it to JPEG format\n",
        "    image = tf.image.decode_jpeg(image)\n",
        "    # Convert it to tf.float32\n",
        "    image = tf.cast(image, tf.float32)\n",
        "    \n",
        "    return image, label\n",
        "\n",
        "def load_image_train(image_file, label):\n",
        "    image, label = load(image_file, label)\n",
        "    image = random_jitter(image)\n",
        "    image = normalize(image)\n",
        "    return image, label\n",
        "\n",
        "def load_image_val(image_file, label):\n",
        "    image, label = load(image_file, label)\n",
        "    image = central_crop(image)\n",
        "    image = normalize(image)\n",
        "    return image, label\n",
        "\n",
        "def resize(input_image, size):\n",
        "    return tf.image.resize(input_image, size)\n",
        "\n",
        "def random_crop(input_image):\n",
        "    return tf.image.random_crop(input_image, size=[150, 150, 3])\n",
        "\n",
        "def central_crop(input_image):\n",
        "    image = resize(input_image, [176, 176])\n",
        "    return tf.image.central_crop(image, central_fraction=0.84)\n",
        "\n",
        "def random_rotation(input_image):\n",
        "    angles = np.random.randint(0, 3, 1)\n",
        "    return tf.image.rot90(input_image, k=angles[0])\n",
        "\n",
        "def random_jitter(input_image):\n",
        "    # Resize it to 176 x 176 x 3\n",
        "    image = resize(input_image, [176, 176])\n",
        "    # Randomly Crop to 150 x 150 x 3\n",
        "    image = random_crop(image)\n",
        "    # Randomly rotation\n",
        "    image = random_rotation(image)\n",
        "    # Randomly mirroring\n",
        "    image = tf.image.random_flip_left_right(image)\n",
        "    return image\n",
        "\n",
        "def normalize(input_image):\n",
        "    mid = (tf.reduce_max(input_image) + tf.reduce_min(input_image)) / 2\n",
        "    input_image = input_image / mid - 1\n",
        "    return input_image\n",
        "\n"
      ]
    },
    {
      "cell_type": "code",
      "execution_count": null,
      "id": "JebiAqbmhV22",
      "metadata": {
        "colab": {
          "base_uri": "https://localhost:8080/",
          "height": 281
        },
        "id": "JebiAqbmhV22",
        "outputId": "58e03488-ec85-4039-f0a7-b50cc167fbaf"
      },
      "outputs": [],
      "source": [
        "image, label = load('./dataset/NORMAL/0 (1).png', 0)\n",
        "\n",
        "fig, ax = plt.subplots()\n",
        "ax.imshow(image /255.)\n",
        "ax.set_title(label)\n",
        "plt.show()"
      ]
    },
    {
      "cell_type": "code",
      "execution_count": null,
      "id": "3wRE42OFhhSW",
      "metadata": {
        "colab": {
          "base_uri": "https://localhost:8080/",
          "height": 216
        },
        "id": "3wRE42OFhhSW",
        "outputId": "1b0c7eb2-2103-4240-aa39-fbeae118576d"
      },
      "outputs": [],
      "source": [
        "fig, ax = plt.subplots(1, 2)\n",
        "ax[0].imshow(image / 255.)\n",
        "ax[0].set_title(\"Original Image\")\n",
        "\n",
        "ax[1].imshow(random_crop(image) / 255.)\n",
        "ax[1].set_title(\"Random Crop Image\")\n",
        "plt.show()"
      ]
    },
    {
      "cell_type": "code",
      "execution_count": null,
      "id": "978UTf7DhnGv",
      "metadata": {
        "colab": {
          "base_uri": "https://localhost:8080/",
          "height": 216
        },
        "id": "978UTf7DhnGv",
        "outputId": "a2753fd1-c8da-45a3-fe53-a982625a4711"
      },
      "outputs": [],
      "source": [
        "fig, ax = plt.subplots(1, 2)\n",
        "ax[0].imshow(image / 255.)\n",
        "ax[0].set_title(\"Original Image\")\n",
        "\n",
        "ax[1].imshow(central_crop(image) / 255.)\n",
        "ax[1].set_title(\"Central Crop Image\")\n",
        "plt.show()"
      ]
    },
    {
      "cell_type": "code",
      "execution_count": null,
      "id": "FnMl6X-bhvbB",
      "metadata": {
        "colab": {
          "base_uri": "https://localhost:8080/",
          "height": 216
        },
        "id": "FnMl6X-bhvbB",
        "outputId": "dc6c56cf-a80e-41e3-bc61-4beb3a33dfe7"
      },
      "outputs": [],
      "source": [
        "fig, ax = plt.subplots(1, 2)\n",
        "ax[0].imshow(image / 255.)\n",
        "ax[0].set_title(\"Original Image\")\n",
        "\n",
        "ax[1].imshow(random_rotation(image) / 255.)\n",
        "ax[1].set_title(\"Rotate Image\")\n",
        "plt.show()"
      ]
    },
    {
      "cell_type": "code",
      "execution_count": null,
      "id": "SvwxDVech0IA",
      "metadata": {
        "colab": {
          "base_uri": "https://localhost:8080/",
          "height": 216
        },
        "id": "SvwxDVech0IA",
        "outputId": "4b89c320-3d46-469e-b585-099ce16bb209"
      },
      "outputs": [],
      "source": [
        "fig, ax = plt.subplots(1, 2)\n",
        "ax[0].imshow(image / 255.)\n",
        "ax[0].set_title(\"Original Image\")\n",
        "\n",
        "ax[1].imshow(random_jitter(image) / 255.)\n",
        "ax[1].set_title(\"Rotate Image\")\n",
        "plt.show()"
      ]
    },
    {
      "cell_type": "code",
      "execution_count": null,
      "id": "T206_7ZCh0LJ",
      "metadata": {
        "colab": {
          "base_uri": "https://localhost:8080/"
        },
        "id": "T206_7ZCh0LJ",
        "outputId": "43a19f3a-64b9-44c7-eb5a-16c3bc218c81"
      },
      "outputs": [],
      "source": [
        "temp_ds = tf.data.Dataset.list_files(os.path.join('./dataset', 'NORMAL', '*.png'))\n",
        "temp_ds = temp_ds.map(lambda x: (x, 0))\n",
        "\n",
        "temp2_ds = tf.data.Dataset.list_files(os.path.join('./dataset', 'TCELL', '*.png'))\n",
        "temp2_ds = temp2_ds.map(lambda x: (x, 1))\n",
        "\n",
        "train_ds = temp_ds.concatenate(temp2_ds)"
      ]
    },
    {
      "cell_type": "code",
      "execution_count": null,
      "id": "MwPQP3LeiFiB",
      "metadata": {
        "id": "MwPQP3LeiFiB"
      },
      "outputs": [],
      "source": [
        "buffer_size = tf.data.experimental.cardinality(train_ds).numpy()\n",
        "train_ds = train_ds.shuffle(buffer_size)\\\n",
        "                   .map(load_image_train, num_parallel_calls=16)\\\n",
        "                   .batch(20)\\\n",
        "                   .repeat()"
      ]
    },
    {
      "cell_type": "code",
      "execution_count": null,
      "id": "U9Lf1Gm5iHmo",
      "metadata": {
        "id": "U9Lf1Gm5iHmo"
      },
      "outputs": [],
      "source": [
        "temp_ds = tf.data.Dataset.list_files(os.path.join('./dataset', 'NORMAL', '*.png'))\n",
        "temp_ds = temp_ds.map(lambda x: (x, 0))\n",
        "\n",
        "temp2_ds = tf.data.Dataset.list_files(os.path.join('./dataset', 'TCELL', '*.png'))\n",
        "temp2_ds = temp2_ds.map(lambda x: (x, 1))\n",
        "\n",
        "val_ds = temp_ds.concatenate(temp2_ds)\n",
        "\n",
        "val_ds = val_ds.map(load_image_val, num_parallel_calls=16)\\\n",
        "               .batch(20)\\\n",
        "               .repeat()"
      ]
    },
    {
      "cell_type": "code",
      "execution_count": null,
      "id": "OoZA6AjDiJ-K",
      "metadata": {
        "id": "OoZA6AjDiJ-K"
      },
      "outputs": [],
      "source": [
        "temp_ds = tf.data.Dataset.list_files(os.path.join('./dataset', 'NORMAL', '*.png'))\n",
        "temp_ds = temp_ds.map(lambda x: (x, 0))\n",
        "\n",
        "temp2_ds = tf.data.Dataset.list_files(os.path.join('./dataset', 'TCELL', '*.png'))\n",
        "temp2_ds = temp2_ds.map(lambda x: (x, 1))\n",
        "\n",
        "test_ds = temp_ds.concatenate(temp2_ds)\n",
        "\n",
        "test_ds = test_ds.map(load_image_val, num_parallel_calls=16)\\\n",
        "                .shuffle(buffer_size)\\\n",
        "               .batch(20)\\\n",
        "               .repeat()"
      ]
    },
    {
      "cell_type": "code",
      "execution_count": null,
      "id": "t4yAhsFGiN2_",
      "metadata": {
        "colab": {
          "base_uri": "https://localhost:8080/",
          "height": 158
        },
        "id": "t4yAhsFGiN2_",
        "outputId": "df7413e3-18fb-4134-9edb-57448f35d46f"
      },
      "outputs": [],
      "source": [
        "for images, labels in train_ds.take(1):\n",
        "    fig, ax = plt.subplots(1, 10, figsize=(20, 6))\n",
        "    for j in range(10):\n",
        "        image = images[j].numpy()\n",
        "        image = image / np.amax(image)\n",
        "        image = np.clip(image, 0, 1)\n",
        "        ax[j].imshow(image)\n",
        "        ax[j].set_title(labels[j].numpy())\n",
        "plt.show()"
      ]
    },
    {
      "cell_type": "code",
      "execution_count": null,
      "id": "DKddDuqKiP4z",
      "metadata": {
        "id": "DKddDuqKiP4z"
      },
      "outputs": [],
      "source": [
        "class Conv(tf.keras.Model):\n",
        "    def __init__(self, filters, kernel_size):\n",
        "        super(Conv, self).__init__()\n",
        "        \n",
        "        self.conv = tf.keras.layers.Conv2D(filters=filters, kernel_size=kernel_size)\n",
        "        self.bn = tf.keras.layers.BatchNormalization()\n",
        "        self.relu = tf.keras.layers.ReLU()\n",
        "        self.pool = tf.keras.layers.MaxPool2D(pool_size=(2, 2))\n",
        "        \n",
        "    def call(self, inputs, training=True):\n",
        "        x = self.conv(inputs)\n",
        "        x = self.bn(x, training=training)\n",
        "        x = self.relu(x)\n",
        "        x = self.pool(x)\n",
        "        return x"
      ]
    },
    {
      "cell_type": "code",
      "execution_count": null,
      "id": "I0Ao2CQbiVz7",
      "metadata": {
        "id": "I0Ao2CQbiVz7"
      },
      "outputs": [],
      "source": [
        "model = tf.keras.Sequential(name='CNN')\n",
        "\n",
        "model.add(Conv(filters=32, kernel_size=(3, 3)))\n",
        "model.add(Conv(filters=64, kernel_size=(3, 3)))\n",
        "model.add(Conv(filters=128, kernel_size=(3, 3)))\n",
        "model.add(Conv(filters=128, kernel_size=(3, 3)))\n",
        "model.add(tf.keras.layers.Flatten())\n",
        "model.add(tf.keras.layers.Dense(units=512, activation=tf.keras.activations.relu))\n",
        "model.add(tf.keras.layers.Dense(units=2, activation=tf.keras.activations.softmax))"
      ]
    },
    {
      "cell_type": "code",
      "execution_count": null,
      "id": "s7x8E6BqiYgU",
      "metadata": {
        "colab": {
          "base_uri": "https://localhost:8080/"
        },
        "id": "s7x8E6BqiYgU",
        "outputId": "21ac943b-4115-49b8-92d2-f5c20c4d179a"
      },
      "outputs": [],
      "source": [
        "model(images[:1])"
      ]
    },
    {
      "cell_type": "code",
      "execution_count": null,
      "id": "eEuQvBgoialU",
      "metadata": {
        "id": "eEuQvBgoialU"
      },
      "outputs": [],
      "source": [
        "checkpoint_path = \"./checkpoints/cp-{epoch:04d}.ckpt\"\n",
        "checkpoint_dir = os.path.dirname(checkpoint_path)\n",
        "\n",
        "cp_callback = tf.keras.callbacks.ModelCheckpoint(filepath=checkpoint_path,\n",
        "                                                 save_best_only=True,\n",
        "                                                 save_weights_only=True,\n",
        "                                                 verbose=1)"
      ]
    },
    {
      "cell_type": "code",
      "execution_count": null,
      "id": "pPToIpukicc5",
      "metadata": {
        "colab": {
          "base_uri": "https://localhost:8080/"
        },
        "id": "pPToIpukicc5",
        "outputId": "47eaa85f-0c4a-431c-a96b-d35349143952"
      },
      "outputs": [],
      "source": [
        "model.compile(optimizer=tf.keras.optimizers.Adam(learning_rate=1e-4),\n",
        "              loss=tf.keras.losses.SparseCategoricalCrossentropy(),\n",
        "              metrics=['accuracy'])\n",
        "model.summary()"
      ]
    },
    {
      "cell_type": "code",
      "execution_count": null,
      "id": "5uiqAfAbietK",
      "metadata": {
        "id": "5uiqAfAbietK"
      },
      "outputs": [],
      "source": [
        "train_len = len(glob(os.path.join('./dataset', '*.png'))) * 2\n",
        "val_len = len(glob(os.path.join('./dataset', '*.png'))) * 2\n",
        "test_len = len(glob(os.path.join('./dataset/test', '*.png'))) * 2"
      ]
    },
    {
      "cell_type": "code",
      "execution_count": null,
      "id": "uz7J7jRDiggQ",
      "metadata": {
        "colab": {
          "base_uri": "https://localhost:8080/"
        },
        "id": "uz7J7jRDiggQ",
        "outputId": "ab84036a-a080-4088-cacf-57f924952ec9"
      },
      "outputs": [],
      "source": [
        "model.fit(train_ds, steps_per_epoch=train_len / 20,\n",
        "          validation_data=val_ds,\n",
        "          validation_steps=val_len/20,\n",
        "          epochs=30,\n",
        "          callbacks=[cp_callback]\n",
        "          )"
      ]
    },
    {
      "cell_type": "code",
      "execution_count": null,
      "id": "dC2YrlIvijSc",
      "metadata": {
        "colab": {
          "base_uri": "https://localhost:8080/"
        },
        "id": "dC2YrlIvijSc",
        "outputId": "15d07beb-daa6-4e54-eb6e-e296e56fa1e3"
      },
      "outputs": [],
      "source": [
        "model.evaluate(test_ds, steps=20)"
      ]
    },
    {
      "cell_type": "code",
      "execution_count": null,
      "id": "lVsE0RFTinES",
      "metadata": {
        "colab": {
          "base_uri": "https://localhost:8080/"
        },
        "id": "lVsE0RFTinES",
        "outputId": "525ccb18-4b3b-478f-fd94-988d8ec08574"
      },
      "outputs": [],
      "source": [
        "model_inf = tf.keras.Sequential(name='Cat_Dog_CNN_load')\n",
        "\n",
        "model_inf.add(Conv(filters=32, kernel_size=(3, 3)))\n",
        "model_inf.add(Conv(filters=64, kernel_size=(3, 3)))\n",
        "model_inf.add(Conv(filters=128, kernel_size=(3, 3)))\n",
        "model_inf.add(Conv(filters=128, kernel_size=(3, 3)))\n",
        "\n",
        "model_inf.add(tf.keras.layers.Flatten())  \n",
        "model_inf.add(tf.keras.layers.Dense(units=512, activation=tf.keras.activations.relu)) \n",
        "model_inf.add(tf.keras.layers.Dense(units=2, activation=tf.keras.activations.softmax))  \n",
        "\n",
        "model_inf.compile(optimizer = tf.keras.optimizers.Adam(learning_rate=1e-4), \n",
        "              loss = tf.keras.losses.SparseCategoricalCrossentropy(), \n",
        "              metrics = ['accuracy'])\n",
        "\n",
        "for images, labels in train_ds.take(1):\n",
        "    outputs = model_inf(images, training=False)\n",
        "    \n",
        "# Load model\n",
        "model_inf.load_weights(tf.train.latest_checkpoint(checkpoint_dir))"
      ]
    },
    {
      "cell_type": "code",
      "execution_count": null,
      "id": "bz-XAH2mipEj",
      "metadata": {
        "colab": {
          "base_uri": "https://localhost:8080/"
        },
        "id": "bz-XAH2mipEj",
        "outputId": "5ec3422a-b822-4f95-c68c-00a6673f9e38"
      },
      "outputs": [],
      "source": [
        "model_inf.evaluate(test_ds, steps=test_len / 20)"
      ]
    },
    {
      "cell_type": "code",
      "execution_count": null,
      "id": "485c75d2",
      "metadata": {},
      "outputs": [],
      "source": [
        "im= test_ds.take(1)"
      ]
    },
    {
      "cell_type": "code",
      "execution_count": null,
      "id": "h6W7bYYjirU8",
      "metadata": {
        "colab": {
          "base_uri": "https://localhost:8080/",
          "height": 478
        },
        "id": "h6W7bYYjirU8",
        "outputId": "25dd7f13-e93e-472c-be1c-a078cc3056ab"
      },
      "outputs": [],
      "source": [
        "test_batch_size = 25\n",
        "\n",
        "for images, labels in test_ds.take(1):\n",
        "    predictions = model_inf(images)\n",
        "\n",
        "images = images[:test_batch_size]\n",
        "labels = labels[:test_batch_size]\n",
        "predictions = predictions[:test_batch_size]\n",
        "\n",
        "labels_map = {0: 'NORMAL', 1: 'TCELL'}\n",
        "\n",
        "# 시각화\n",
        "fig = plt.figure(figsize=(10, 10))\n",
        "for i, (px, py, y_pred) in enumerate(zip(images, labels, predictions)):\n",
        "    p = fig.add_subplot(5, 5, i+1)\n",
        "    if np.argmax(y_pred.numpy()) == py.numpy():\n",
        "        p.set_title(\"{}\".format(labels_map[py.numpy()]), color='blue')\n",
        "    else:\n",
        "        p.set_title(\"{}/{}\".format(labels_map[np.argmax(y_pred.numpy())],\n",
        "                                   labels_map[py.numpy()]), color='red')\n",
        "    p.imshow(px.numpy()*0.5+0.5)\n",
        "    p.axis('off')"
      ]
    },
    {
      "cell_type": "markdown",
      "id": "FNXNoWPWg_YH",
      "metadata": {
        "id": "FNXNoWPWg_YH"
      },
      "source": []
    }
  ],
  "metadata": {
    "colab": {
      "collapsed_sections": [
        "sj4DnvOihBxi"
      ],
      "provenance": []
    },
    "kernelspec": {
      "display_name": "venv",
      "language": "python",
      "name": "python3"
    },
    "language_info": {
      "codemirror_mode": {
        "name": "ipython",
        "version": 3
      },
      "file_extension": ".py",
      "mimetype": "text/x-python",
      "name": "python",
      "nbconvert_exporter": "python",
      "pygments_lexer": "ipython3",
      "version": "3.8.0"
    },
    "vscode": {
      "interpreter": {
        "hash": "9757b46259494158ef64aef33c99dddd63387f1ba3ecdcea418f0a8f049c8cd0"
      }
    }
  },
  "nbformat": 4,
  "nbformat_minor": 5
}
